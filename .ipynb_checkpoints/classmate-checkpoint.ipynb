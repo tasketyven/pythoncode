{
 "cells": [
  {
   "cell_type": "markdown",
   "metadata": {},
   "source": [
    "# Classes and functions for System Price forecasting"
   ]
  },
  {
   "cell_type": "markdown",
   "metadata": {},
   "source": [
    "#### Af Thomas Hoffmann Nielsen"
   ]
  },
  {
   "cell_type": "markdown",
   "metadata": {},
   "source": [
    "##### Importer pakker og hent data"
   ]
  },
  {
   "cell_type": "code",
   "execution_count": null,
   "metadata": {},
   "outputs": [],
   "source": [
    "from matplotlib import pyplot as plt\n",
    "import numpy as np\n",
    "import pandas as pd\n",
    "from arch.unitroot import PhillipsPerron\n",
    "from statsmodels.tsa.stattools import adfuller\n",
    "import math\n",
    "from sklearn.linear_model import LinearRegression\n",
    "import sys\n",
    "from sklearn.metrics import mean_absolute_error\n",
    "from matplotlib import pyplot as plt\n",
    "from mcs import ModelConfidenceSet"
   ]
  },
  {
   "cell_type": "markdown",
   "metadata": {},
   "source": [
    "##### Class for preprocessing (seasonality) og stationarity tjek"
   ]
  },
  {
   "cell_type": "code",
   "execution_count": null,
   "metadata": {},
   "outputs": [],
   "source": [
    "class Proces:\n",
    "\n",
    "    def __init__(self, y):\n",
    "        self.y = y\n",
    "\n",
    "    def season(self):\n",
    "        pi = math.pi\n",
    "        t = np.arange(1,len(self.y)+1)\n",
    "        year = (pi*2*t)/(365)\n",
    "        month = (pi*2*t)/(30)\n",
    "        week = (pi*2*t)/(7)\n",
    "    \n",
    "        sinweek = [math.sin(x) for x in week]\n",
    "        cosweek = [math.cos(x) for x in week]\n",
    "        sinmonth = [math.sin(x) for x in month]\n",
    "        cosmonth = [math.sin(x) for x in month]\n",
    "        sinyear = [math.sin(x) for x in year]\n",
    "        cosyear = [math.cos(x) for x in year]\n",
    "\n",
    "        dummies = np.array([sinweek,cosweek,sinmonth,cosmonth,sinyear,cosyear,t],dtype=object).T\n",
    "\n",
    "        seas = LinearRegression().fit(dummies, self.y).predict(dummies)\n",
    "\n",
    "        yclean = self.y - seas\n",
    "\n",
    "        self.stationarity(yclean)\n",
    "\n",
    "        return yclean, seas\n",
    "\n",
    "    def stationarity(self,y):\n",
    "        adf = adfuller(y,regression='nc')[1]\n",
    "        pp = PhillipsPerron(y,trend='nc').pvalue\n",
    "\n",
    "        if adf < 0.05 and pp < 0.05:\n",
    "            print(\"Data is stationary\")\n",
    "        else:\n",
    "            sys.exit(\"Data not stationary\")     "
   ]
  },
  {
   "cell_type": "markdown",
   "metadata": {},
   "source": [
    "##### Funktion til at splitte lave features og splitte til in-sample og out-of-sample "
   ]
  },
  {
   "cell_type": "code",
   "execution_count": null,
   "metadata": {},
   "outputs": [],
   "source": [
    "def splitFeat(df,testlength):\n",
    "\n",
    "    df['dayofweek'] = df.index.dayofweek\n",
    "    df['month'] = df.index.month\n",
    "    df['day'] = df.index.day\n",
    "    df['lag1'] = df['SYS'].shift(1)\n",
    "    df['lag2'] = df['SYS'].shift(2)\n",
    "    df['lag3'] = df['SYS'].shift(3)\n",
    "    df['lag7'] = df['SYS'].shift(7)\n",
    "\n",
    "    df.dropna(inplace=True)\n",
    "\n",
    "    split = int(len(df)-testlength)\n",
    "\n",
    "    dftest = df[split:].copy()\n",
    "    dftrain = df[:split].copy()\n",
    "\n",
    "    return dftrain, dftest"
   ]
  },
  {
   "cell_type": "markdown",
   "metadata": {},
   "source": [
    "##### Funktion til at splitte i y og x"
   ]
  },
  {
   "cell_type": "code",
   "execution_count": null,
   "metadata": {},
   "outputs": [],
   "source": [
    "def splitvar(df):\n",
    "\n",
    "    ytrue = df['SYS']\n",
    "\n",
    "    seas = df['seas']\n",
    "\n",
    "    y = df['yclean']\n",
    "    \n",
    "    x = df.drop(['SYS','yclean','seas'],axis=1)\n",
    "\n",
    "    return ytrue, y, x, seas  "
   ]
  },
  {
   "cell_type": "markdown",
   "metadata": {},
   "source": [
    "##### Classes til estimation og evaluering af modeller"
   ]
  },
  {
   "cell_type": "code",
   "execution_count": null,
   "metadata": {},
   "outputs": [],
   "source": [
    "class Model:\n",
    "\n",
    "    def __init__(self,name,estimator,univariate):\n",
    "        self.name = name\n",
    "        self.estimator = estimator\n",
    "        self.univariate = univariate\n",
    "\n",
    "\n",
    "class Estimation:\n",
    "\n",
    "    def __init__(self,y_true_train, y_train, x_train, seas_train,y_true_test, y_test, x_test, seas_test):\n",
    "        self.y_true_train = y_true_train\n",
    "        self.y_train = y_train\n",
    "        self.x_train = x_train\n",
    "        self.seas_train = seas_train\n",
    "        self.y_true_test = y_true_test\n",
    "        self.y_test = y_test\n",
    "        self.x_test = x_test\n",
    "        self.seas_test = seas_test\n",
    "\n",
    "        self.models = []\n",
    "        self.predictions = pd.DataFrame()\n",
    "        self.error = pd.DataFrame()\n",
    "        \n",
    "    def add_model(self,model):\n",
    "        self.models.append(model)\n",
    "        print(f\"{model.name} added\")\n",
    "    \n",
    "    def estimate(self):\n",
    "        for i, model in enumerate(self.models):\n",
    "            if model.univariate:\n",
    "                predict = model.estimator.fit(disp=0,start_ar_lags=20).forecast(steps=365)[0]\n",
    "            else:\n",
    "                predict = model.estimator.fit(self.x_train,self.y_train).predict(self.x_test)\n",
    "            self.predictions.insert(i, model.name, predict, True)\n",
    "            print(f\"Estimates based on {model.name} created\")\n",
    "\n",
    "        for model in self.predictions.columns:\n",
    "            self.error[model] = np.abs(self.predictions[model] - self.y_test.values)\n",
    "            print(f\"{model} AE calculated\")\n",
    "\n",
    "        mcs = ModelConfidenceSet(self.error,0.05,5, 1000).run()\n",
    "\n",
    "        finalDF = self.predictions[mcs.included]\n",
    "\n",
    "        #Get final predictor, mean if multiple final models\n",
    "        predictor = np.add(finalDF.mean(axis=1),self.seas_test.values) \n",
    "\n",
    "        mae = mean_absolute_error(self.y_true_test,predictor)\n",
    "\n",
    "        print(f\"Final model(s): {mcs.included} with mae of {mae}\")\n",
    "\n",
    "        self.plot_final(predictor,self.y_true_test)\n",
    "\n",
    "    def plot_final(self,pred,true):\n",
    "        plt.plot(pred,linewidth=1,color ='r')\n",
    "        plt.plot(true.values,linewidth=1)\n",
    "        plt.title('Prediction and daily System Price')\n",
    "        plt.legend(['Prediction','System Price'])        \n",
    "        plt.xlabel('Days forecasted ahead')\n",
    "        plt.ylabel('System Price')\n",
    "        plt.show()"
   ]
  }
 ],
 "metadata": {
  "kernelspec": {
   "display_name": "Python 3",
   "language": "python",
   "name": "python3"
  },
  "language_info": {
   "codemirror_mode": {
    "name": "ipython",
    "version": 3
   },
   "file_extension": ".py",
   "mimetype": "text/x-python",
   "name": "python",
   "nbconvert_exporter": "python",
   "pygments_lexer": "ipython3",
   "version": "3.7.6"
  }
 },
 "nbformat": 4,
 "nbformat_minor": 2
}
